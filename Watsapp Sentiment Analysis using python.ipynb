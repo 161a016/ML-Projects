{
 "cells": [
  {
   "cell_type": "code",
   "execution_count": 4,
   "id": "abcb588e",
   "metadata": {},
   "outputs": [],
   "source": [
    "import re\n",
    "import pandas as pd\n",
    "import numpy as np\n",
    "import emoji\n",
    "from collections import Counter\n",
    "import matplotlib.pyplot as plt\n",
    "from PIL import Image\n",
    "from wordcloud import WordCloud, STOPWORDS, ImageColorGenerator\n"
   ]
  },
  {
   "cell_type": "code",
   "execution_count": null,
   "id": "646698f1",
   "metadata": {},
   "outputs": [],
   "source": [
    "def date_time(s):\n",
    "     pattern = '^([0-9]+)(\\/)([0-9]+)(\\/)([0-9]+), ([0-9]+):([0-9]+)[ ]?(AM|PM|am|pm)? -'\n",
    "        result=re.match(pattern,s)\n",
    "        if result:\n",
    "            return True\n",
    "        return False"
   ]
  },
  {
   "cell_type": "code",
   "execution_count": 6,
   "id": "bd0ee782",
   "metadata": {},
   "outputs": [],
   "source": [
    "##find authors and contacts\n",
    "def Author(s):\n",
    "    s=s.split(\":\")\n",
    "    if len(s)==2:\n",
    "        return True\n",
    "    return False"
   ]
  },
  {
   "cell_type": "code",
   "execution_count": null,
   "id": "897f4061",
   "metadata": {},
   "outputs": [],
   "source": [
    "##finding messages\n",
    "def getDatapoint(line):\n",
    "    splitline=line.split('-')\n",
    "    dateTime=splitline[0]\n",
    "    date, time = dateTime.split(\", \")\n",
    "    message = \" \".join(splitline[1:])\n",
    "    if find_author(message):\n",
    "        splitmessage = message.split(\": \")\n",
    "        author = splitmessage[0]\n",
    "        message = \" \".join(splitmessage[1:])\n",
    "    else:\n",
    "        author= None\n",
    "    return date, time, author, message"
   ]
  },
  {
   "cell_type": "code",
   "execution_count": 7,
   "id": "754fca47",
   "metadata": {},
   "outputs": [],
   "source": [
    "###Now here is how we can prepare the data we collected from WhatsApp by using the above functions:"
   ]
  },
  {
   "cell_type": "code",
   "execution_count": 75,
   "id": "40f59b4f",
   "metadata": {},
   "outputs": [],
   "source": [
    "data=[]\n",
    "conversation='test.txt'\n",
    "with open(conversation,encoding='utf-8') as fp:\n",
    "    fp.readline()\n",
    "    messageBuffer=[]\n",
    "    date, time, author = None, None, None\n",
    "    while True:\n",
    "        line = fp.readline()\n",
    "        if not line:\n",
    "            break\n",
    "            line = line.strip()\n",
    "            if date_time(line):\n",
    "                if len(messageBuffer) > 0:\n",
    "                    data.append([date, time, author, ' '.join(messageBuffer)])\n",
    "                    messageBuffer.clear()\n",
    "                    date, time, author, message = getDatapoint(line)\n",
    "                    messageBuffer.append(message)\n",
    "                else:\n",
    "                    messageBuffer.append(line)"
   ]
  },
  {
   "cell_type": "code",
   "execution_count": 79,
   "id": "06f66bb9",
   "metadata": {},
   "outputs": [
    {
     "name": "stdout",
     "output_type": "stream",
     "text": [
      "Empty DataFrame\n",
      "Columns: [Date, Time, Author, Message, Positive, Negative, Neutral]\n",
      "Index: []\n"
     ]
    }
   ],
   "source": [
    "df = pd.DataFrame(data, columns=[\"Date\", 'Time', 'Author', 'Message'])\n",
    "df['Date'] = pd.to_datetime(df['Date'])\n",
    "\n",
    "data = df.dropna()\n",
    "from vaderSentiment.vaderSentiment import SentimentIntensityAnalyzer\n",
    "sentiments = SentimentIntensityAnalyzer()\n",
    "data[\"Positive\"] = [sentiments.polarity_scores(i)[\"pos\"] for i in data[\"Message\"]]\n",
    "data[\"Negative\"] = [sentiments.polarity_scores(i)[\"neg\"] for i in data[\"Message\"]]\n",
    "data[\"Neutral\"] = [sentiments.polarity_scores(i)[\"neu\"] for i in data[\"Message\"]]\n",
    "print(data.head())"
   ]
  },
  {
   "cell_type": "code",
   "execution_count": 77,
   "id": "b48c3a30",
   "metadata": {},
   "outputs": [
    {
     "name": "stdout",
     "output_type": "stream",
     "text": [
      "Neutral 🙂 \n"
     ]
    }
   ],
   "source": [
    "x = sum(data[\"Positive\"])\n",
    "y = sum(data[\"Negative\"])\n",
    "z = sum(data[\"Neutral\"])\n",
    "\n",
    "def sentiment_score(a, b, c):\n",
    "    if (a>b) and (a>c):\n",
    "        print(\"Positive 😊 \")\n",
    "    elif (b>a) and (b>c):\n",
    "        print(\"Negative 😠 \")\n",
    "    else:\n",
    "        print(\"Neutral 🙂 \")\n",
    "sentiment_score(x, y, z)"
   ]
  }
 ],
 "metadata": {
  "kernelspec": {
   "display_name": "Python 3",
   "language": "python",
   "name": "python3"
  },
  "language_info": {
   "codemirror_mode": {
    "name": "ipython",
    "version": 3
   },
   "file_extension": ".py",
   "mimetype": "text/x-python",
   "name": "python",
   "nbconvert_exporter": "python",
   "pygments_lexer": "ipython3",
   "version": "3.8.8"
  }
 },
 "nbformat": 4,
 "nbformat_minor": 5
}
